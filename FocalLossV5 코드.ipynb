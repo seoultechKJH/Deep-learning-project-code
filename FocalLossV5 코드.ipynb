{
 "cells": [
  {
   "cell_type": "code",
   "execution_count": null,
   "id": "fedee212",
   "metadata": {},
   "outputs": [],
   "source": [
    "import torch\n",
    "import torch.nn as nn\n",
    "import torch.nn.functional as F\n",
    "\n",
    "class FocalLoss(nn.Module):\n",
    "    def __init__(self, gamma=4.0, weight=None):\n",
    "        super(FocalLoss, self).__init__()\n",
    "        self.gamma = gamma\n",
    "        self.weight = weight\n",
    "\n",
    "    def forward(self, input, target, sample_weight, weight=None, n=1.0, gamma=2.0):\n",
    "        \"\"\"\n",
    "        input:[n, c]\n",
    "        target:[n,]\n",
    "        \"\"\"\n",
    "        logpt = F.log_softmax(input, dim=1)\n",
    "        pt = torch.exp(logpt)\n",
    "        index = target.view(len(input), 1).long()\n",
    "\n",
    "        p = pt.gather(1, index)\n",
    "        p = torch.cat((sample_weight, p), 1)\n",
    "        \n",
    "        maxP = torch.mean(p, 1)\n",
    "        maxP = maxP.view(len(input), 1)\n",
    "        \n",
    "        logpt = (1-maxP)**gamma*logpt\n",
    "        \n",
    "        loss = F.nll_loss(logpt, target, weight)\n",
    "        return loss, p"
   ]
  }
 ],
 "metadata": {
  "kernelspec": {
   "display_name": "Python 3 (ipykernel)",
   "language": "python",
   "name": "python3"
  },
  "language_info": {
   "codemirror_mode": {
    "name": "ipython",
    "version": 3
   },
   "file_extension": ".py",
   "mimetype": "text/x-python",
   "name": "python",
   "nbconvert_exporter": "python",
   "pygments_lexer": "ipython3",
   "version": "3.10.4"
  }
 },
 "nbformat": 4,
 "nbformat_minor": 5
}
